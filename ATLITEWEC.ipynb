{
 "cells": [
  {
   "cell_type": "code",
   "execution_count": null,
   "metadata": {},
   "outputs": [],
   "source": []
  }
 ],
 "metadata": {
  "interpreter": {
   "hash": "f440b02ef5829869bd1b5e6a47c39653bacb54de60fff2c04ab545c9a4e665bc"
  },
  "kernelspec": {
   "display_name": "Python 3.10.2 ('pypsa-eur')",
   "language": "python",
   "name": "python3"
  },
  "language_info": {
   "name": "python",
   "version": "3.10.2"
  },
  "orig_nbformat": 4
 },
 "nbformat": 4,
 "nbformat_minor": 2
}
